{
 "cells": [
  {
   "cell_type": "code",
   "execution_count": 11,
   "metadata": {},
   "outputs": [
    {
     "name": "stdout",
     "output_type": "stream",
     "text": [
      "<bound method CMySQLCursor.fetchall of <mysql.connector.cursor_cext.CMySQLCursor object at 0x1214a2000>>\n"
     ]
    }
   ],
   "source": [
    "import mysql.connector\n",
    "\n",
    "connection = mysql.connector.connect(\n",
    "            host=\"localhost\",\n",
    "            user=\"root\",  # Используем введённый username\n",
    "            password=\"28082004\",  # Используем введённый password\n",
    "            database=\"sakila\"\n",
    "        )\n",
    "cursor = connection.cursor()\n",
    "query = \"SELECT * FROM actor\"\n",
    "cursor.execute(query)\n",
    "result = cursor.fetchall\n",
    "print(result)"
   ]
  }
 ],
 "metadata": {
  "kernelspec": {
   "display_name": "kivy_venv",
   "language": "python",
   "name": "python3"
  },
  "language_info": {
   "codemirror_mode": {
    "name": "ipython",
    "version": 3
   },
   "file_extension": ".py",
   "mimetype": "text/x-python",
   "name": "python",
   "nbconvert_exporter": "python",
   "pygments_lexer": "ipython3",
   "version": "3.12.5"
  }
 },
 "nbformat": 4,
 "nbformat_minor": 2
}
